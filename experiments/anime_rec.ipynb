{
 "cells": [
  {
   "cell_type": "code",
   "execution_count": 1,
   "id": "68b2d276",
   "metadata": {},
   "outputs": [],
   "source": [
    "%load_ext autoreload\n",
    "%autoreload 2\n",
    "import os\n",
    "import sys\n",
    "sys.path.append(os.path.dirname(os.getcwd()))\n",
    "import numpy as np\n",
    "import pandas as pd\n",
    "from tqdm import tqdm\n",
    "import multiprocessing\n",
    "import torch\n",
    "from torch import nn\n",
    "from torch.nn import functional as F\n",
    "from torch.utils.data import Dataset, DataLoader, random_split"
   ]
  },
  {
   "cell_type": "code",
   "execution_count": 2,
   "id": "2269bfd9",
   "metadata": {},
   "outputs": [],
   "source": [
    "from core.ds import RatingsDS\n",
    "from core.rec import MF, log_all_embeddings, log_items_with_metadata\n",
    "from core.utils import benchmark_loader, print_top"
   ]
  },
  {
   "cell_type": "code",
   "execution_count": 3,
   "id": "51197fef",
   "metadata": {},
   "outputs": [],
   "source": [
    "os.environ[\"CUDA_LAUNCH_BLOCKING\"] = \"1\""
   ]
  },
  {
   "cell_type": "markdown",
   "id": "afa08193",
   "metadata": {},
   "source": [
    "# Read csv and index encode"
   ]
  },
  {
   "cell_type": "code",
   "execution_count": 67,
   "id": "de1496e4",
   "metadata": {},
   "outputs": [],
   "source": [
    "\n",
    "# ---------- 1) Read CSV and index-encode IDs ----------\n",
    "csv_path = \"../data/anime-rec/rating.csv\"\n",
    "anime_path = \"../data/anime-rec/anime.csv\"\n",
    "df = pd.read_csv(csv_path)\n",
    "anime_df = pd.read_csv(anime_path)\n"
   ]
  },
  {
   "cell_type": "code",
   "execution_count": 65,
   "id": "bcbf1774",
   "metadata": {},
   "outputs": [
    {
     "name": "stdout",
     "output_type": "stream",
     "text": [
      "<class 'pandas.core.frame.DataFrame'>\n",
      "RangeIndex: 7813737 entries, 0 to 7813736\n",
      "Data columns (total 3 columns):\n",
      " #   Column    Dtype\n",
      "---  ------    -----\n",
      " 0   user_id   int64\n",
      " 1   anime_id  int64\n",
      " 2   rating    int64\n",
      "dtypes: int64(3)\n",
      "memory usage: 178.8 MB\n"
     ]
    }
   ],
   "source": [
    "df.info()"
   ]
  },
  {
   "cell_type": "code",
   "execution_count": 69,
   "id": "13a96e52",
   "metadata": {},
   "outputs": [
    {
     "data": {
      "text/plain": [
       "(7813737, 6337239)"
      ]
     },
     "execution_count": 69,
     "metadata": {},
     "output_type": "execute_result"
    }
   ],
   "source": [
    "# Only keep explicit ratings\n",
    "explicit_df = df.loc[(df[\"rating\"] != -1) & (df[\"anime_id\"] != 30913), :].copy()\n",
    "len(df), len(explicit_df)"
   ]
  },
  {
   "cell_type": "code",
   "execution_count": 70,
   "id": "eeaa0aa7",
   "metadata": {},
   "outputs": [
    {
     "data": {
      "text/html": [
       "<div>\n",
       "<style scoped>\n",
       "    .dataframe tbody tr th:only-of-type {\n",
       "        vertical-align: middle;\n",
       "    }\n",
       "\n",
       "    .dataframe tbody tr th {\n",
       "        vertical-align: top;\n",
       "    }\n",
       "\n",
       "    .dataframe thead th {\n",
       "        text-align: right;\n",
       "    }\n",
       "</style>\n",
       "<table border=\"1\" class=\"dataframe\">\n",
       "  <thead>\n",
       "    <tr style=\"text-align: right;\">\n",
       "      <th></th>\n",
       "      <th>user_id</th>\n",
       "      <th>anime_id</th>\n",
       "      <th>rating</th>\n",
       "    </tr>\n",
       "  </thead>\n",
       "  <tbody>\n",
       "    <tr>\n",
       "      <th>count</th>\n",
       "      <td>6.337239e+06</td>\n",
       "      <td>6.337239e+06</td>\n",
       "      <td>6.337239e+06</td>\n",
       "    </tr>\n",
       "    <tr>\n",
       "      <th>mean</th>\n",
       "      <td>3.674791e+04</td>\n",
       "      <td>8.902859e+03</td>\n",
       "      <td>7.808497e+00</td>\n",
       "    </tr>\n",
       "    <tr>\n",
       "      <th>std</th>\n",
       "      <td>2.101341e+04</td>\n",
       "      <td>8.881992e+03</td>\n",
       "      <td>1.572496e+00</td>\n",
       "    </tr>\n",
       "    <tr>\n",
       "      <th>min</th>\n",
       "      <td>1.000000e+00</td>\n",
       "      <td>1.000000e+00</td>\n",
       "      <td>1.000000e+00</td>\n",
       "    </tr>\n",
       "    <tr>\n",
       "      <th>25%</th>\n",
       "      <td>1.898400e+04</td>\n",
       "      <td>1.239000e+03</td>\n",
       "      <td>7.000000e+00</td>\n",
       "    </tr>\n",
       "    <tr>\n",
       "      <th>50%</th>\n",
       "      <td>3.681500e+04</td>\n",
       "      <td>6.213000e+03</td>\n",
       "      <td>8.000000e+00</td>\n",
       "    </tr>\n",
       "    <tr>\n",
       "      <th>75%</th>\n",
       "      <td>5.487300e+04</td>\n",
       "      <td>1.407500e+04</td>\n",
       "      <td>9.000000e+00</td>\n",
       "    </tr>\n",
       "    <tr>\n",
       "      <th>max</th>\n",
       "      <td>7.351600e+04</td>\n",
       "      <td>3.447500e+04</td>\n",
       "      <td>1.000000e+01</td>\n",
       "    </tr>\n",
       "  </tbody>\n",
       "</table>\n",
       "</div>"
      ],
      "text/plain": [
       "            user_id      anime_id        rating\n",
       "count  6.337239e+06  6.337239e+06  6.337239e+06\n",
       "mean   3.674791e+04  8.902859e+03  7.808497e+00\n",
       "std    2.101341e+04  8.881992e+03  1.572496e+00\n",
       "min    1.000000e+00  1.000000e+00  1.000000e+00\n",
       "25%    1.898400e+04  1.239000e+03  7.000000e+00\n",
       "50%    3.681500e+04  6.213000e+03  8.000000e+00\n",
       "75%    5.487300e+04  1.407500e+04  9.000000e+00\n",
       "max    7.351600e+04  3.447500e+04  1.000000e+01"
      ]
     },
     "execution_count": 70,
     "metadata": {},
     "output_type": "execute_result"
    }
   ],
   "source": [
    "explicit_df.describe()"
   ]
  },
  {
   "cell_type": "code",
   "execution_count": 71,
   "id": "1af09d18",
   "metadata": {},
   "outputs": [],
   "source": [
    "\n",
    "# Map raw IDs to contiguous 0..N-1 indices\n",
    "explicit_df[\"user_idx\"], user_uniques = pd.factorize(explicit_df[\"user_id\"])\n",
    "explicit_df[\"item_idx\"], item_uniques = pd.factorize(explicit_df[\"anime_id\"])\n",
    "\n",
    "num_users = len(user_uniques)\n",
    "num_items = len(item_uniques)\n",
    "# Optional: normalize ratings (helps if different scales)\n",
    "ratings = explicit_df[\"rating\"].astype(np.float32).values\n",
    "users = explicit_df[\"user_idx\"].astype(np.int64).values\n",
    "items = explicit_df[\"item_idx\"].astype(np.int64).values\n"
   ]
  },
  {
   "cell_type": "code",
   "execution_count": 72,
   "id": "88734843",
   "metadata": {},
   "outputs": [],
   "source": [
    "def map_id_idx(id):\n",
    "    item_uniq = list(item_uniques)\n",
    "    try:\n",
    "        enc = item_uniq.index(id)\n",
    "        return enc\n",
    "    except:\n",
    "        # Embedding idx of unk\n",
    "        return len(item_uniques) + 1"
   ]
  },
  {
   "cell_type": "code",
   "execution_count": 73,
   "id": "fd0ab828",
   "metadata": {},
   "outputs": [],
   "source": [
    "anime_df[\"anime_idx\"] = anime_df[\"anime_id\"].map(map_id_idx)"
   ]
  },
  {
   "cell_type": "code",
   "execution_count": 74,
   "id": "add8ee48",
   "metadata": {},
   "outputs": [
    {
     "data": {
      "text/html": [
       "<div>\n",
       "<style scoped>\n",
       "    .dataframe tbody tr th:only-of-type {\n",
       "        vertical-align: middle;\n",
       "    }\n",
       "\n",
       "    .dataframe tbody tr th {\n",
       "        vertical-align: top;\n",
       "    }\n",
       "\n",
       "    .dataframe thead th {\n",
       "        text-align: right;\n",
       "    }\n",
       "</style>\n",
       "<table border=\"1\" class=\"dataframe\">\n",
       "  <thead>\n",
       "    <tr style=\"text-align: right;\">\n",
       "      <th></th>\n",
       "      <th>user_id</th>\n",
       "      <th>anime_id</th>\n",
       "      <th>rating</th>\n",
       "      <th>user_idx</th>\n",
       "      <th>item_idx</th>\n",
       "    </tr>\n",
       "  </thead>\n",
       "  <tbody>\n",
       "  </tbody>\n",
       "</table>\n",
       "</div>"
      ],
      "text/plain": [
       "Empty DataFrame\n",
       "Columns: [user_id, anime_id, rating, user_idx, item_idx]\n",
       "Index: []"
      ]
     },
     "execution_count": 74,
     "metadata": {},
     "output_type": "execute_result"
    }
   ],
   "source": [
    "explicit_df[~explicit_df[\"item_idx\"].isin(anime_df[\"anime_idx\"])]"
   ]
  },
  {
   "cell_type": "code",
   "execution_count": 76,
   "id": "2dd0297c",
   "metadata": {},
   "outputs": [
    {
     "data": {
      "text/plain": [
       "9926"
      ]
     },
     "execution_count": 76,
     "metadata": {},
     "output_type": "execute_result"
    }
   ],
   "source": [
    "len(anime_df) - 2368"
   ]
  },
  {
   "cell_type": "code",
   "execution_count": 77,
   "id": "cd86d8ca",
   "metadata": {},
   "outputs": [
    {
     "data": {
      "text/plain": [
       "9926"
      ]
     },
     "execution_count": 77,
     "metadata": {},
     "output_type": "execute_result"
    }
   ],
   "source": [
    "explicit_df[\"item_idx\"].nunique()"
   ]
  },
  {
   "cell_type": "code",
   "execution_count": 78,
   "id": "9f07505f",
   "metadata": {},
   "outputs": [
    {
     "data": {
      "text/plain": [
       "9926"
      ]
     },
     "execution_count": 78,
     "metadata": {},
     "output_type": "execute_result"
    }
   ],
   "source": [
    "num_items"
   ]
  },
  {
   "cell_type": "code",
   "execution_count": 79,
   "id": "95509959",
   "metadata": {},
   "outputs": [
    {
     "data": {
      "text/plain": [
       "(9926, 69600)"
      ]
     },
     "execution_count": 79,
     "metadata": {},
     "output_type": "execute_result"
    }
   ],
   "source": [
    "len(item_uniques), len(user_uniques)"
   ]
  },
  {
   "cell_type": "code",
   "execution_count": 40,
   "id": "49edc9a9",
   "metadata": {},
   "outputs": [
    {
     "data": {
      "text/html": [
       "<div>\n",
       "<style scoped>\n",
       "    .dataframe tbody tr th:only-of-type {\n",
       "        vertical-align: middle;\n",
       "    }\n",
       "\n",
       "    .dataframe tbody tr th {\n",
       "        vertical-align: top;\n",
       "    }\n",
       "\n",
       "    .dataframe thead th {\n",
       "        text-align: right;\n",
       "    }\n",
       "</style>\n",
       "<table border=\"1\" class=\"dataframe\">\n",
       "  <thead>\n",
       "    <tr style=\"text-align: right;\">\n",
       "      <th></th>\n",
       "      <th>anime_id</th>\n",
       "      <th>name</th>\n",
       "      <th>genre</th>\n",
       "      <th>type</th>\n",
       "      <th>episodes</th>\n",
       "      <th>rating</th>\n",
       "      <th>members</th>\n",
       "      <th>anime_idx</th>\n",
       "    </tr>\n",
       "  </thead>\n",
       "  <tbody>\n",
       "    <tr>\n",
       "      <th>31</th>\n",
       "      <td>32983</td>\n",
       "      <td>Natsume Yuujinchou Go</td>\n",
       "      <td>Drama, Fantasy, Shoujo, Slice of Life, Superna...</td>\n",
       "      <td>TV</td>\n",
       "      <td>13</td>\n",
       "      <td>8.76</td>\n",
       "      <td>38865</td>\n",
       "      <td>9928</td>\n",
       "    </tr>\n",
       "    <tr>\n",
       "      <th>62</th>\n",
       "      <td>32995</td>\n",
       "      <td>Yuri!!! on Ice</td>\n",
       "      <td>Comedy, Sports</td>\n",
       "      <td>TV</td>\n",
       "      <td>12</td>\n",
       "      <td>8.61</td>\n",
       "      <td>103178</td>\n",
       "      <td>9928</td>\n",
       "    </tr>\n",
       "    <tr>\n",
       "      <th>74</th>\n",
       "      <td>21</td>\n",
       "      <td>One Piece</td>\n",
       "      <td>Action, Adventure, Comedy, Drama, Fantasy, Sho...</td>\n",
       "      <td>TV</td>\n",
       "      <td>Unknown</td>\n",
       "      <td>8.58</td>\n",
       "      <td>504862</td>\n",
       "      <td>9928</td>\n",
       "    </tr>\n",
       "    <tr>\n",
       "      <th>76</th>\n",
       "      <td>31933</td>\n",
       "      <td>JoJo no Kimyou na Bouken: Diamond wa Kudakenai</td>\n",
       "      <td>Action, Adventure, Comedy, Drama, Shounen, Sup...</td>\n",
       "      <td>TV</td>\n",
       "      <td>39</td>\n",
       "      <td>8.57</td>\n",
       "      <td>74074</td>\n",
       "      <td>9928</td>\n",
       "    </tr>\n",
       "    <tr>\n",
       "      <th>140</th>\n",
       "      <td>10937</td>\n",
       "      <td>Mobile Suit Gundam: The Origin</td>\n",
       "      <td>Action, Mecha, Military, Sci-Fi, Shounen, Space</td>\n",
       "      <td>OVA</td>\n",
       "      <td>6</td>\n",
       "      <td>8.42</td>\n",
       "      <td>15420</td>\n",
       "      <td>9928</td>\n",
       "    </tr>\n",
       "    <tr>\n",
       "      <th>...</th>\n",
       "      <td>...</td>\n",
       "      <td>...</td>\n",
       "      <td>...</td>\n",
       "      <td>...</td>\n",
       "      <td>...</td>\n",
       "      <td>...</td>\n",
       "      <td>...</td>\n",
       "      <td>...</td>\n",
       "    </tr>\n",
       "    <tr>\n",
       "      <th>12282</th>\n",
       "      <td>34388</td>\n",
       "      <td>Shikkoku no Shaga The Animation</td>\n",
       "      <td>Hentai</td>\n",
       "      <td>OVA</td>\n",
       "      <td>Unknown</td>\n",
       "      <td>NaN</td>\n",
       "      <td>195</td>\n",
       "      <td>9928</td>\n",
       "    </tr>\n",
       "    <tr>\n",
       "      <th>12283</th>\n",
       "      <td>29992</td>\n",
       "      <td>Silent Chaser Kagami</td>\n",
       "      <td>Hentai</td>\n",
       "      <td>OVA</td>\n",
       "      <td>1</td>\n",
       "      <td>4.95</td>\n",
       "      <td>112</td>\n",
       "      <td>9928</td>\n",
       "    </tr>\n",
       "    <tr>\n",
       "      <th>12284</th>\n",
       "      <td>26031</td>\n",
       "      <td>Super Erotic Anime</td>\n",
       "      <td>Hentai</td>\n",
       "      <td>OVA</td>\n",
       "      <td>2</td>\n",
       "      <td>4.45</td>\n",
       "      <td>118</td>\n",
       "      <td>9928</td>\n",
       "    </tr>\n",
       "    <tr>\n",
       "      <th>12285</th>\n",
       "      <td>34399</td>\n",
       "      <td>Taimanin Asagi 3</td>\n",
       "      <td>Demons, Hentai, Supernatural</td>\n",
       "      <td>OVA</td>\n",
       "      <td>Unknown</td>\n",
       "      <td>NaN</td>\n",
       "      <td>485</td>\n",
       "      <td>9928</td>\n",
       "    </tr>\n",
       "    <tr>\n",
       "      <th>12293</th>\n",
       "      <td>26081</td>\n",
       "      <td>Yasuji no Pornorama: Yacchimae!!</td>\n",
       "      <td>Hentai</td>\n",
       "      <td>Movie</td>\n",
       "      <td>1</td>\n",
       "      <td>5.46</td>\n",
       "      <td>142</td>\n",
       "      <td>9928</td>\n",
       "    </tr>\n",
       "  </tbody>\n",
       "</table>\n",
       "<p>2368 rows × 8 columns</p>\n",
       "</div>"
      ],
      "text/plain": [
       "       anime_id                                            name  \\\n",
       "31        32983                           Natsume Yuujinchou Go   \n",
       "62        32995                                  Yuri!!! on Ice   \n",
       "74           21                                       One Piece   \n",
       "76        31933  JoJo no Kimyou na Bouken: Diamond wa Kudakenai   \n",
       "140       10937                  Mobile Suit Gundam: The Origin   \n",
       "...         ...                                             ...   \n",
       "12282     34388                 Shikkoku no Shaga The Animation   \n",
       "12283     29992                            Silent Chaser Kagami   \n",
       "12284     26031                              Super Erotic Anime   \n",
       "12285     34399                                Taimanin Asagi 3   \n",
       "12293     26081                Yasuji no Pornorama: Yacchimae!!   \n",
       "\n",
       "                                                   genre   type episodes  \\\n",
       "31     Drama, Fantasy, Shoujo, Slice of Life, Superna...     TV       13   \n",
       "62                                        Comedy, Sports     TV       12   \n",
       "74     Action, Adventure, Comedy, Drama, Fantasy, Sho...     TV  Unknown   \n",
       "76     Action, Adventure, Comedy, Drama, Shounen, Sup...     TV       39   \n",
       "140      Action, Mecha, Military, Sci-Fi, Shounen, Space    OVA        6   \n",
       "...                                                  ...    ...      ...   \n",
       "12282                                             Hentai    OVA  Unknown   \n",
       "12283                                             Hentai    OVA        1   \n",
       "12284                                             Hentai    OVA        2   \n",
       "12285                       Demons, Hentai, Supernatural    OVA  Unknown   \n",
       "12293                                             Hentai  Movie        1   \n",
       "\n",
       "       rating  members  anime_idx  \n",
       "31       8.76    38865       9928  \n",
       "62       8.61   103178       9928  \n",
       "74       8.58   504862       9928  \n",
       "76       8.57    74074       9928  \n",
       "140      8.42    15420       9928  \n",
       "...       ...      ...        ...  \n",
       "12282     NaN      195       9928  \n",
       "12283    4.95      112       9928  \n",
       "12284    4.45      118       9928  \n",
       "12285     NaN      485       9928  \n",
       "12293    5.46      142       9928  \n",
       "\n",
       "[2368 rows x 8 columns]"
      ]
     },
     "execution_count": 40,
     "metadata": {},
     "output_type": "execute_result"
    }
   ],
   "source": [
    "anime_df.loc[(~anime_df[\"anime_id\"].isin(item_uniques)) & (anime_df[\"anime_idx\"] == 9928), :].sort_values(by = \"anime_idx\")"
   ]
  },
  {
   "cell_type": "code",
   "execution_count": 81,
   "id": "71551b91",
   "metadata": {},
   "outputs": [],
   "source": [
    "anime_meta_df = anime_df.loc[anime_df[\"anime_id\"].isin(item_uniques), :].sort_values(by = \"anime_idx\")"
   ]
  },
  {
   "cell_type": "code",
   "execution_count": 82,
   "id": "5f30502f",
   "metadata": {},
   "outputs": [
    {
     "data": {
      "text/plain": [
       "9926"
      ]
     },
     "execution_count": 82,
     "metadata": {},
     "output_type": "execute_result"
    }
   ],
   "source": [
    "len(anime_meta_df)"
   ]
  },
  {
   "cell_type": "markdown",
   "id": "a4d0009b",
   "metadata": {},
   "source": [
    "# Dataset"
   ]
  },
  {
   "cell_type": "code",
   "execution_count": 83,
   "id": "99bae1bc",
   "metadata": {},
   "outputs": [],
   "source": [
    "batch_size = 8192 * 4\n",
    "dataset = RatingsDS(users, items, ratings)\n",
    "\n",
    "# Train/val split (e.g., 90/10)\n",
    "val_size = max(1, int(0.1 * len(dataset)))\n",
    "train_size = len(dataset) - val_size\n",
    "train_ds, val_ds = random_split(dataset, [train_size, val_size], generator=torch.Generator().manual_seed(42))\n",
    "\n",
    "train_loader = DataLoader(train_ds, batch_size=batch_size, shuffle=True, num_workers=6, pin_memory=True, persistent_workers=True, prefetch_factor=2)\n",
    "val_loader   = DataLoader(val_ds, batch_size=batch_size, shuffle=False, num_workers=6, pin_memory=True, persistent_workers=True, prefetch_factor=2)"
   ]
  },
  {
   "cell_type": "markdown",
   "id": "3898c79c",
   "metadata": {},
   "source": [
    "# Training"
   ]
  },
  {
   "cell_type": "code",
   "execution_count": 84,
   "id": "7f39d61d",
   "metadata": {},
   "outputs": [],
   "source": [
    "# ---------- 4) Training ----------\n",
    "device = torch.device(\"cuda\" if torch.cuda.is_available() else \"cpu\")\n",
    "model = MF(num_users, num_items, 32).to(device)"
   ]
  },
  {
   "cell_type": "code",
   "execution_count": 85,
   "id": "ccb469b1",
   "metadata": {},
   "outputs": [],
   "source": [
    "# If your ratings are in [1, 5], MSE is common; add weight decay for regularization\n",
    "criterion = nn.MSELoss()\n",
    "optimizer = torch.optim.Adam(model.parameters(), lr=5e-3, weight_decay=1e-5)\n",
    "\n",
    "def rmse(loader):\n",
    "    model.eval()\n",
    "    se, n = 0.0, 0\n",
    "    with torch.no_grad():\n",
    "        for u, i, r in loader:\n",
    "            u, i, r = u.to(device), i.to(device), r.to(device)\n",
    "            pred = model(u, i)\n",
    "            se += torch.sum((pred - r) ** 2).item()\n",
    "            n += r.numel()\n",
    "    return (se / n) ** 0.5\n",
    "\n",
    "def eval_mse_rmse(loader):\n",
    "    model.eval()\n",
    "    se, n = 0.0, 0\n",
    "    with torch.no_grad():\n",
    "        for u, i, r in loader:\n",
    "            u, i, r = u.to(device), i.to(device), r.to(device)\n",
    "            pred = model(u, i)\n",
    "            se += torch.sum((pred - r) ** 2).item()\n",
    "            n += r.numel()\n",
    "    mse = se / max(1, n)\n",
    "    return mse, mse ** 0.5\n"
   ]
  },
  {
   "cell_type": "code",
   "execution_count": 86,
   "id": "93e37e77",
   "metadata": {},
   "outputs": [
    {
     "name": "stdout",
     "output_type": "stream",
     "text": [
      "tensor([ 4.3594,  2.1768,  5.6247,  ..., -1.6068, -6.0129,  1.7296],\n",
      "       device='cuda:0', grad_fn=<AddBackward0>)\n"
     ]
    }
   ],
   "source": [
    "for u, i, r in train_loader:\n",
    "    u, i, r = u.to(device), i.to(device), r.to(device)\n",
    "    pred = model(u, i)\n",
    "    print(pred)\n",
    "    break"
   ]
  },
  {
   "cell_type": "code",
   "execution_count": 87,
   "id": "13ffe535",
   "metadata": {},
   "outputs": [],
   "source": [
    "from torch.utils.tensorboard import SummaryWriter\n",
    "import time\n",
    "\n",
    "# ---- before training loop ----\n",
    "run_name = f\"MF_d{64}_{int(time.time())}\"   # tweak as you like\n",
    "writer = SummaryWriter(log_dir=f\"runs/MF/{run_name}\")"
   ]
  },
  {
   "cell_type": "code",
   "execution_count": 88,
   "id": "b42ee80c",
   "metadata": {},
   "outputs": [],
   "source": [
    "# right after creating `writer`, before the loop\n",
    "try:\n",
    "    dummy_u = torch.randint(0, num_users, (1024,), dtype=torch.long, device=device)\n",
    "    dummy_i = torch.randint(0, num_items, (1024,), dtype=torch.long, device=device)\n",
    "    writer.add_graph(model, (dummy_u, dummy_i))\n",
    "except Exception:\n",
    "    pass  # graph tracing can fail on some setups; safe to ignore\n"
   ]
  },
  {
   "cell_type": "code",
   "execution_count": null,
   "id": "aad88abb",
   "metadata": {},
   "outputs": [
    {
     "name": "stderr",
     "output_type": "stream",
     "text": [
      "Epoch 1:   0%|          | 0/175 [00:00<?, ?it/s]"
     ]
    },
    {
     "name": "stderr",
     "output_type": "stream",
     "text": [
      "Epoch 1:  20%|██        | 35/175 [00:06<00:17,  8.19it/s]"
     ]
    }
   ],
   "source": [
    "\n",
    "# epochs = 15\n",
    "global_step = 0\n",
    "epochs = 10\n",
    "proj_every = 1\n",
    "for ep in range(1, epochs + 1):\n",
    "    model.train()\n",
    "    running_se, n_seen = 0.0, 0\n",
    "\n",
    "    bar = tqdm(train_loader, desc=f\"Epoch {ep}\", leave=False)\n",
    "\n",
    "    for i, (u, i, r) in enumerate(bar, 1):\n",
    "        u, i, r = u.to(device), i.to(device), r.to(device)\n",
    "        pred = model(u, i)\n",
    "        loss = criterion(pred, r)\n",
    "        optimizer.zero_grad()\n",
    "        loss.backward()\n",
    "         # per-step logging (optional but nice to have)\n",
    "        writer.add_scalar(\"Loss/train_step\", loss.item(), global_step)\n",
    "        global_step += 1\n",
    "        optimizer.step()\n",
    "      # accumulate for epoch metrics\n",
    "        with torch.no_grad():\n",
    "            running_se += torch.sum((pred - r) ** 2).item()\n",
    "            n_seen += r.numel()\n",
    "\n",
    "    # ---- end of epoch: compute metrics ----\n",
    "    train_mse = running_se / max(1, n_seen)\n",
    "    val_mse, val_rmse = eval_mse_rmse(val_loader)\n",
    "\n",
    "    # scalars\n",
    "    writer.add_scalar(\"Loss/train_epoch\", train_mse, ep)\n",
    "    writer.add_scalar(\"Loss/val_epoch\",   val_mse,   ep)\n",
    "    writer.add_scalar(\"RMSE/val_epoch\",   val_rmse,  ep)\n",
    "\n",
    "    # (optional) learning rate\n",
    "    writer.add_scalar(\"LR\", optimizer.param_groups[0][\"lr\"], ep)\n",
    "\n",
    "    # histograms of params (embeddings + biases)\n",
    "    writer.add_histogram(\"embeddings/user_factors\", model.P.weight, ep)\n",
    "    writer.add_histogram(\"embeddings/item_factors\", model.Q.weight, ep)\n",
    "    if getattr(model, \"user_bias\", None) is not None:\n",
    "        writer.add_histogram(\"bias/user_bias\",  model.user_bias.weight, ep)\n",
    "        writer.add_histogram(\"bias/item_bias\",  model.item_bias.weight, ep)\n",
    "        # global bias as a scalar (single value)\n",
    "        # writer.add_scalar(\"bias/global_bias\", model.global_bias.item(), ep)\n",
    "\n",
    "    # (optional) weight norms (quick health check)\n",
    "    with torch.no_grad():\n",
    "        writer.add_scalar(\"Norms/user_factors_L2\", model.P.weight.norm(p=2).item(), ep)\n",
    "        writer.add_scalar(\"Norms/item_factors_L2\", model.Q.weight.norm(p=2).item(), ep)\n",
    "    \n",
    "    # Add embeddings\n",
    "    if global_step % proj_every == 0:\n",
    "        # If factorize: user_ids=user_uniques, item_ids=item_uniques\n",
    "        log_all_embeddings(writer, model, global_step)\n",
    "        log_items_with_metadata(writer, model, anime_meta_df, global_step)\n",
    "\n",
    "\n",
    "    print(f\"Epoch {ep:02d} | train MSE {train_mse:.4f} | val RMSE {val_rmse:.4f}\")\n",
    "# ---- after training ----\n",
    "writer.flush()\n",
    "writer.close()\n"
   ]
  },
  {
   "cell_type": "code",
   "execution_count": 53,
   "id": "016f7d75",
   "metadata": {},
   "outputs": [],
   "source": [
    "# ! tensorboard --logdir runs/MF --port 6006"
   ]
  },
  {
   "cell_type": "code",
   "execution_count": null,
   "id": "36061038",
   "metadata": {},
   "outputs": [],
   "source": [
    "\n",
    "# ---------- 5) Inference helper ----------\n",
    "# Predict a rating for a raw (user_id, item_id)\n",
    "def predict(user_id, item_id):\n",
    "    model.eval()\n",
    "    # map raw ids -> indices (fallback: raise if unknown)\n",
    "    try:\n",
    "        u_idx = int(np.where(user_uniques == user_id)[0][0])\n",
    "        i_idx = int(np.where(item_uniques == item_id)[0][0])\n",
    "    except IndexError:\n",
    "        raise ValueError(\"Unknown user_id or item_id\")\n",
    "    u = torch.tensor([u_idx], dtype=torch.long, device=device)\n",
    "    i = torch.tensor([i_idx], dtype=torch.long, device=device)\n",
    "    with torch.no_grad():\n",
    "        return model(u, i).item()\n",
    "\n",
    "# Example:\n",
    "# print(predict(user_id=\"A123\", item_id=\"I777\"))\n"
   ]
  },
  {
   "cell_type": "markdown",
   "id": "e79cabef",
   "metadata": {},
   "source": [
    "## Benchmark"
   ]
  },
  {
   "cell_type": "code",
   "execution_count": null,
   "id": "6460527e",
   "metadata": {},
   "outputs": [],
   "source": [
    "# (On Linux you can leave mp_ctx=None; on Windows/macOS use \"spawn\")\n",
    "mp_ctx = None\n",
    "if os.name == \"nt\":\n",
    "    import multiprocessing as mp\n",
    "    mp_ctx = mp.get_context(\"spawn\")\n",
    "\n",
    "results = benchmark_loader(\n",
    "    model=model, device=device, dataset=dataset,\n",
    "    batch_sizes=(4096, 8192, 16384, 32768),\n",
    "    worker_choices=(0, 2, 4, 8, 12),\n",
    "    pin_memory_choices=(True, False),\n",
    "    prefetch_choices=(2, 4, 8),\n",
    "    persistent=True,\n",
    "    mp_ctx=mp_ctx,\n",
    ")\n"
   ]
  },
  {
   "cell_type": "code",
   "execution_count": null,
   "id": "fd264560",
   "metadata": {},
   "outputs": [],
   "source": [
    "\n",
    "\n",
    "print_top(results, top=8)\n",
    "best = results[0]\n",
    "print(\"\\nRecommended DataLoader kwargs:\")\n",
    "print({\n",
    "    \"batch_size\": best[\"batch_size\"],\n",
    "    \"num_workers\": best[\"num_workers\"],\n",
    "    \"pin_memory\": best[\"pin_memory\"],\n",
    "    \"prefetch_factor\": best[\"prefetch\"],\n",
    "    \"persistent_workers\": (best[\"num_workers\"] > 0),\n",
    "    \"drop_last\": True\n",
    "})"
   ]
  }
 ],
 "metadata": {
  "kernelspec": {
   "display_name": "ai",
   "language": "python",
   "name": "python3"
  },
  "language_info": {
   "codemirror_mode": {
    "name": "ipython",
    "version": 3
   },
   "file_extension": ".py",
   "mimetype": "text/x-python",
   "name": "python",
   "nbconvert_exporter": "python",
   "pygments_lexer": "ipython3",
   "version": "3.13.5"
  }
 },
 "nbformat": 4,
 "nbformat_minor": 5
}
